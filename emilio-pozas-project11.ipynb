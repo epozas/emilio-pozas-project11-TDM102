{
 "cells": [
  {
   "cell_type": "markdown",
   "id": "be02a957-7133-4d02-818e-fedeb3cecb05",
   "metadata": {},
   "source": [
    "# Project 11 -- Emilio Pozas"
   ]
  },
  {
   "cell_type": "markdown",
   "id": "a1228853-dd19-4ab2-89e0-0394d7d72de3",
   "metadata": {},
   "source": [
    "**TA Help:** \n",
    "    \n",
    "**Collaboration:** "
   ]
  },
  {
   "cell_type": "markdown",
   "id": "6180e742-8e39-4698-98ff-5b00c8cf8ea0",
   "metadata": {},
   "source": [
    "## Question 1"
   ]
  },
  {
   "cell_type": "code",
   "execution_count": 3,
   "id": "49445606-d363-41b4-b479-e319a9a84c01",
   "metadata": {},
   "outputs": [],
   "source": [
    "class Flight:\n",
    "    def __init__(self, flight_number, origin_ID, dest_ID, dep_time, arr_time, dep_delay,arr_delay):\n",
    "        self.flight_number = flight_number\n",
    "        self.origin_ID = origin_ID\n",
    "        self.dest_ID = dest_ID\n",
    "        self.dep_time = dep_time\n",
    "        self.arr_time = arr_time\n",
    "        self.dep_delay = dep_delay\n",
    "        self.arr_delay = arr_delay\n",
    "    \n",
    "    def get_arrdelay(self):\n",
    "        return self.arr_delay\n",
    "    \n",
    "    "
   ]
  },
  {
   "cell_type": "markdown",
   "id": "fc601975-35ed-4680-a4e1-0273ee3cc047",
   "metadata": {},
   "source": [
    "## Question 2"
   ]
  },
  {
   "cell_type": "code",
   "execution_count": 4,
   "id": "a16336a1-1ef0-41e8-bc7c-49387db27497",
   "metadata": {},
   "outputs": [],
   "source": [
    "import pandas as pd"
   ]
  },
  {
   "cell_type": "code",
   "execution_count": 10,
   "id": "5ac4fdc4-f274-4c2a-b2a8-0558f1363642",
   "metadata": {},
   "outputs": [],
   "source": [
    "columns_to_read= [\n",
    "    'DepDelay', 'ArrDelay', 'Flight_Number_Reporting_Airline', 'Distance',\n",
    "    'CarrierDelay', 'WeatherDelay',\n",
    "    'DepTime', 'ArrTime', 'Origin',\n",
    "    'Dest', 'AirTime'\n",
    "]"
   ]
  },
  {
   "cell_type": "code",
   "execution_count": 14,
   "id": "6231999f-62e4-4360-b556-bdc67eeb2c8c",
   "metadata": {},
   "outputs": [],
   "source": [
    "col_types = {\n",
    "    'Flight_Number_Reporting_Airline': 'int64',\n",
    "    'Origin': 'object',\n",
    "    'Dest' : 'object',\n",
    "    'DepTime': 'float64',\n",
    "    'DepDelay': 'float64',\n",
    "    'ArrTime': 'float64',\n",
    "    'ArrDelay': 'float64',\n",
    "    'Distance': 'float64',\n",
    "    'CarrierDelay': 'float64',\n",
    "    'WeatherDelay': 'float64',\n",
    "}"
   ]
  },
  {
   "cell_type": "code",
   "execution_count": 15,
   "id": "b518326e-1aad-4e80-b262-7208d19ddfbf",
   "metadata": {},
   "outputs": [],
   "source": [
    "myDF = pd.read_csv(\"/anvil/projects/tdm/data/flights/2014.csv\", usecols =columns_to_read, dtype=col_types, nrows=100 )"
   ]
  },
  {
   "cell_type": "code",
   "execution_count": 16,
   "id": "119e4d15-417c-47e9-96ab-6c744ac08018",
   "metadata": {},
   "outputs": [
    {
     "data": {
      "text/html": [
       "<div>\n",
       "<style scoped>\n",
       "    .dataframe tbody tr th:only-of-type {\n",
       "        vertical-align: middle;\n",
       "    }\n",
       "\n",
       "    .dataframe tbody tr th {\n",
       "        vertical-align: top;\n",
       "    }\n",
       "\n",
       "    .dataframe thead th {\n",
       "        text-align: right;\n",
       "    }\n",
       "</style>\n",
       "<table border=\"1\" class=\"dataframe\">\n",
       "  <thead>\n",
       "    <tr style=\"text-align: right;\">\n",
       "      <th></th>\n",
       "      <th>Flight_Number_Reporting_Airline</th>\n",
       "      <th>Origin</th>\n",
       "      <th>Dest</th>\n",
       "      <th>DepTime</th>\n",
       "      <th>DepDelay</th>\n",
       "      <th>ArrTime</th>\n",
       "      <th>ArrDelay</th>\n",
       "      <th>AirTime</th>\n",
       "      <th>Distance</th>\n",
       "      <th>CarrierDelay</th>\n",
       "      <th>WeatherDelay</th>\n",
       "    </tr>\n",
       "  </thead>\n",
       "  <tbody>\n",
       "    <tr>\n",
       "      <th>0</th>\n",
       "      <td>2377</td>\n",
       "      <td>DFW</td>\n",
       "      <td>ICT</td>\n",
       "      <td>935.0</td>\n",
       "      <td>-5.0</td>\n",
       "      <td>1051.0</td>\n",
       "      <td>-4.0</td>\n",
       "      <td>56.0</td>\n",
       "      <td>328.0</td>\n",
       "      <td>NaN</td>\n",
       "      <td>NaN</td>\n",
       "    </tr>\n",
       "    <tr>\n",
       "      <th>1</th>\n",
       "      <td>2377</td>\n",
       "      <td>DFW</td>\n",
       "      <td>ICT</td>\n",
       "      <td>951.0</td>\n",
       "      <td>11.0</td>\n",
       "      <td>1115.0</td>\n",
       "      <td>20.0</td>\n",
       "      <td>54.0</td>\n",
       "      <td>328.0</td>\n",
       "      <td>11.0</td>\n",
       "      <td>0.0</td>\n",
       "    </tr>\n",
       "    <tr>\n",
       "      <th>2</th>\n",
       "      <td>2377</td>\n",
       "      <td>ICT</td>\n",
       "      <td>DFW</td>\n",
       "      <td>1144.0</td>\n",
       "      <td>9.0</td>\n",
       "      <td>1302.0</td>\n",
       "      <td>2.0</td>\n",
       "      <td>57.0</td>\n",
       "      <td>328.0</td>\n",
       "      <td>NaN</td>\n",
       "      <td>NaN</td>\n",
       "    </tr>\n",
       "    <tr>\n",
       "      <th>3</th>\n",
       "      <td>2377</td>\n",
       "      <td>ICT</td>\n",
       "      <td>DFW</td>\n",
       "      <td>1134.0</td>\n",
       "      <td>-1.0</td>\n",
       "      <td>1253.0</td>\n",
       "      <td>-7.0</td>\n",
       "      <td>53.0</td>\n",
       "      <td>328.0</td>\n",
       "      <td>NaN</td>\n",
       "      <td>NaN</td>\n",
       "    </tr>\n",
       "    <tr>\n",
       "      <th>4</th>\n",
       "      <td>2377</td>\n",
       "      <td>ICT</td>\n",
       "      <td>DFW</td>\n",
       "      <td>1129.0</td>\n",
       "      <td>-6.0</td>\n",
       "      <td>1244.0</td>\n",
       "      <td>-16.0</td>\n",
       "      <td>52.0</td>\n",
       "      <td>328.0</td>\n",
       "      <td>NaN</td>\n",
       "      <td>NaN</td>\n",
       "    </tr>\n",
       "  </tbody>\n",
       "</table>\n",
       "</div>"
      ],
      "text/plain": [
       "   Flight_Number_Reporting_Airline Origin Dest  DepTime  DepDelay  ArrTime  \\\n",
       "0                             2377    DFW  ICT    935.0      -5.0   1051.0   \n",
       "1                             2377    DFW  ICT    951.0      11.0   1115.0   \n",
       "2                             2377    ICT  DFW   1144.0       9.0   1302.0   \n",
       "3                             2377    ICT  DFW   1134.0      -1.0   1253.0   \n",
       "4                             2377    ICT  DFW   1129.0      -6.0   1244.0   \n",
       "\n",
       "   ArrDelay  AirTime  Distance  CarrierDelay  WeatherDelay  \n",
       "0      -4.0     56.0     328.0           NaN           NaN  \n",
       "1      20.0     54.0     328.0          11.0           0.0  \n",
       "2       2.0     57.0     328.0           NaN           NaN  \n",
       "3      -7.0     53.0     328.0           NaN           NaN  \n",
       "4     -16.0     52.0     328.0           NaN           NaN  "
      ]
     },
     "execution_count": 16,
     "metadata": {},
     "output_type": "execute_result"
    }
   ],
   "source": [
    "myDF.head()"
   ]
  },
  {
   "cell_type": "code",
   "execution_count": 36,
   "id": "9bd5356b-775b-4505-acc3-6b19fd562ddd",
   "metadata": {},
   "outputs": [],
   "source": [
    "longlistofflights = []\n",
    "for index, row in myDF.iterrows():\n",
    "    myflight = Flight(\n",
    "        flight_number = row['Flight_Number_Reporting_Airline'],\n",
    "        origin_ID = row['Origin'],\n",
    "        dest_ID = row['Dest'],\n",
    "        dep_time = row['DepTime'],\n",
    "        arr_time = row['ArrTime'],\n",
    "        dep_delay = row['DepDelay'],\n",
    "        arr_delay = row['ArrDelay'],\n",
    "    )\n",
    "    longlistofflights.append(myflight)"
   ]
  },
  {
   "cell_type": "markdown",
   "id": "8e586edd-ff26-4ce2-8f6b-2424b26f2929",
   "metadata": {},
   "source": [
    "## Question 3"
   ]
  },
  {
   "cell_type": "code",
   "execution_count": 22,
   "id": "f65ed0a6-a39e-4a48-8d87-638b6fdb9899",
   "metadata": {},
   "outputs": [],
   "source": [
    "delays_dest = {}"
   ]
  },
  {
   "cell_type": "code",
   "execution_count": 23,
   "id": "6f583dec-1a27-4509-a134-b01907b755d1",
   "metadata": {},
   "outputs": [],
   "source": [
    "for myflight in longlistofflights:\n",
    "    if myflight.dest_ID not in delays_dest:\n",
    "        delays_dest[myflight.dest_ID] = []\n",
    "    delays_dest[myflight.dest_ID].append(myflight.get_arrdelay())"
   ]
  },
  {
   "cell_type": "code",
   "execution_count": 25,
   "id": "3aa9b07d-11a4-4e05-be3b-428f02986592",
   "metadata": {},
   "outputs": [
    {
     "data": {
      "text/plain": [
       "{'ICT': [-4.0, 20.0],\n",
       " 'DFW': [2.0,\n",
       "  -7.0,\n",
       "  -16.0,\n",
       "  1.0,\n",
       "  9.0,\n",
       "  30.0,\n",
       "  27.0,\n",
       "  8.0,\n",
       "  91.0,\n",
       "  -3.0,\n",
       "  -13.0,\n",
       "  21.0,\n",
       "  -2.0,\n",
       "  -6.0,\n",
       "  -16.0,\n",
       "  37.0,\n",
       "  19.0,\n",
       "  -17.0,\n",
       "  -11.0,\n",
       "  5.0,\n",
       "  34.0,\n",
       "  -2.0,\n",
       "  -3.0,\n",
       "  -2.0,\n",
       "  -26.0,\n",
       "  -17.0,\n",
       "  -14.0,\n",
       "  -7.0,\n",
       "  15.0,\n",
       "  -19.0,\n",
       "  25.0],\n",
       " 'TPA': [-10.0,\n",
       "  57.0,\n",
       "  -1.0,\n",
       "  53.0,\n",
       "  83.0,\n",
       "  34.0,\n",
       "  -15.0,\n",
       "  12.0,\n",
       "  16.0,\n",
       "  -11.0,\n",
       "  2.0,\n",
       "  -11.0,\n",
       "  -4.0,\n",
       "  -7.0,\n",
       "  -14.0,\n",
       "  -10.0,\n",
       "  34.0,\n",
       "  -10.0,\n",
       "  -5.0,\n",
       "  -13.0],\n",
       " 'OGG': [-65.0, -52.0, -18.0, -17.0, -44.0, -42.0, -39.0, 0.0],\n",
       " 'SJC': [-12.0, -16.0, -3.0],\n",
       " 'KOA': [-34.0, -42.0, -46.0, -36.0],\n",
       " 'SMF': [-8.0],\n",
       " 'SEA': [-16.0, 4.0, 4.0, -3.0, -38.0, -20.0, -19.0, -15.0, -30.0],\n",
       " 'PDX': [-32.0, -21.0, -22.0],\n",
       " 'OAK': [-14.0, -21.0],\n",
       " 'HNL': [-52.0, -23.0, -36.0, -29.0, -36.0, -8.0, -17.0],\n",
       " 'SAN': [8.0, -21.0, -23.0],\n",
       " 'ANC': [-27.0, -27.0],\n",
       " 'LIH': [-58.0, -24.0],\n",
       " 'BLI': [-18.0],\n",
       " 'DCA': [-21.0, -23.0]}"
      ]
     },
     "execution_count": 25,
     "metadata": {},
     "output_type": "execute_result"
    }
   ],
   "source": [
    "delays_dest"
   ]
  },
  {
   "cell_type": "code",
   "execution_count": 27,
   "id": "0b9a204d-4b68-4bb0-9cdd-a87094392c93",
   "metadata": {},
   "outputs": [],
   "source": [
    "average_delays = {myairport: sum(mydelays)/len(mydelays) for myairport, mydelays in delays_dest.items()}"
   ]
  },
  {
   "cell_type": "code",
   "execution_count": 28,
   "id": "8f1098b0-509f-4b22-bacf-47ee9bb1cee7",
   "metadata": {},
   "outputs": [
    {
     "data": {
      "text/plain": [
       "{'ICT': 8.0,\n",
       " 'DFW': 4.612903225806452,\n",
       " 'TPA': 9.0,\n",
       " 'OGG': -34.625,\n",
       " 'SJC': -10.333333333333334,\n",
       " 'KOA': -39.5,\n",
       " 'SMF': -8.0,\n",
       " 'SEA': -14.777777777777779,\n",
       " 'PDX': -25.0,\n",
       " 'OAK': -17.5,\n",
       " 'HNL': -28.714285714285715,\n",
       " 'SAN': -12.0,\n",
       " 'ANC': -27.0,\n",
       " 'LIH': -41.0,\n",
       " 'BLI': -18.0,\n",
       " 'DCA': -22.0}"
      ]
     },
     "execution_count": 28,
     "metadata": {},
     "output_type": "execute_result"
    }
   ],
   "source": [
    "average_delays"
   ]
  },
  {
   "cell_type": "markdown",
   "id": "da22f29c-d245-4d2b-9fc1-ca14cb6087d9",
   "metadata": {},
   "source": [
    "## Question 4"
   ]
  },
  {
   "cell_type": "code",
   "execution_count": 32,
   "id": "8cffc767-d1c8-4d64-b7dc-f0d2ee8a80d1",
   "metadata": {},
   "outputs": [],
   "source": [
    "def arr_avg_delays(myflightslist):\n",
    "    \"\"\"\n",
    "    Purpose:To obtain the average arrival delays from each airport ID destination. \n",
    "    Input: myflightslist: List of object Flights\n",
    "    Output: average_delays: Dictonary with airport : Average delays\n",
    "    \"\"\"\n",
    "    delays_dest = {}\n",
    "    for myflight in myflightslist:\n",
    "        if myflight.dest_ID not in delays_dest:\n",
    "            delays_dest[myflight.dest_ID] = []\n",
    "        delays_dest[myflight.dest_ID].append(myflight.get_arrdelay())\n",
    "    average_delays = {myairport: sum(mydelays)/len(mydelays) for myairport, mydelays in delays_dest.items()}\n",
    "    return average_delays\n",
    "    "
   ]
  },
  {
   "cell_type": "code",
   "execution_count": 33,
   "id": "7ede69f7-6259-4a32-98b1-e34d04f8fd63",
   "metadata": {},
   "outputs": [
    {
     "data": {
      "text/plain": [
       "{'ICT': 8.0,\n",
       " 'DFW': 4.612903225806452,\n",
       " 'TPA': 9.0,\n",
       " 'OGG': -34.625,\n",
       " 'SJC': -10.333333333333334,\n",
       " 'KOA': -39.5,\n",
       " 'SMF': -8.0,\n",
       " 'SEA': -14.777777777777779,\n",
       " 'PDX': -25.0,\n",
       " 'OAK': -17.5,\n",
       " 'HNL': -28.714285714285715,\n",
       " 'SAN': -12.0,\n",
       " 'ANC': -27.0,\n",
       " 'LIH': -41.0,\n",
       " 'BLI': -18.0,\n",
       " 'DCA': -22.0}"
      ]
     },
     "execution_count": 33,
     "metadata": {},
     "output_type": "execute_result"
    }
   ],
   "source": [
    "arr_avg_delays(longlistofflights)"
   ]
  },
  {
   "cell_type": "markdown",
   "id": "88c9cdac-3e92-498f-83fa-e089bfc44ac8",
   "metadata": {},
   "source": [
    "## Question 5"
   ]
  },
  {
   "cell_type": "code",
   "execution_count": 31,
   "id": "d370d7c9-06db-42b9-b75f-240481a5c491",
   "metadata": {},
   "outputs": [],
   "source": [
    "class Flight:\n",
    "    def __init__(self, flight_number, origin_ID, dest_ID, dep_time, arr_time, dep_delay,arr_delay):\n",
    "        self.flight_number = flight_number\n",
    "        self.origin_ID = origin_ID\n",
    "        self.dest_ID = dest_ID\n",
    "        self.dep_time = dep_time\n",
    "        self.arr_time = arr_time\n",
    "        self.dep_delay = dep_delay\n",
    "        self.arr_delay = arr_delay\n",
    "    \n",
    "    def get_arrdelay(self):\n",
    "        return self.arr_delay\n",
    "    \n",
    "    def get_depdelay(self):\n",
    "        return self.dep_delay"
   ]
  },
  {
   "cell_type": "code",
   "execution_count": 40,
   "id": "e1555792-fffc-4186-b7de-5d048bec981a",
   "metadata": {},
   "outputs": [],
   "source": [
    "def dep_avg_delays(myflightslist):\n",
    "    \"\"\"\n",
    "    Purpose:To obtain the average arrival delays from each airport ID origin. \n",
    "    Input: myflightslist: List of object Flights\n",
    "    Output: average_delays: Dictonary with airport : Average delays\n",
    "    \"\"\"\n",
    "    delays_origin = {}\n",
    "    for myflight in myflightslist:\n",
    "        if myflight.origin_ID not in delays_origin:\n",
    "            delays_origin[myflight.origin_ID] = []\n",
    "        delays_origin[myflight.origin_ID].append(myflight.get_depdelay())\n",
    "    average_delays = {myairport: sum(mydelays)/len(mydelays) for myairport, mydelays in delays_origin.items()}\n",
    "    return average_delays\n",
    "    "
   ]
  },
  {
   "cell_type": "code",
   "execution_count": 41,
   "id": "30f981f9-a692-4b75-a80a-96f8c19863a6",
   "metadata": {},
   "outputs": [
    {
     "data": {
      "text/plain": [
       "{'DFW': 3.0,\n",
       " 'ICT': 10.612903225806452,\n",
       " 'MIA': 15.05,\n",
       " 'BLI': -10.5,\n",
       " 'PDX': -9.75,\n",
       " 'OGG': -5.777777777777778,\n",
       " 'OAK': -7.0,\n",
       " 'SMF': -9.0,\n",
       " 'KOA': -13.5,\n",
       " 'HNL': -6.285714285714286,\n",
       " 'SJC': -4.0,\n",
       " 'SEA': -2.6666666666666665,\n",
       " 'SAN': -4.0,\n",
       " 'LIH': -8.0,\n",
       " 'ANC': -9.0,\n",
       " 'DCA': -7.5}"
      ]
     },
     "execution_count": 41,
     "metadata": {},
     "output_type": "execute_result"
    }
   ],
   "source": [
    "dep_avg_delays(longlistofflights)"
   ]
  },
  {
   "cell_type": "markdown",
   "id": "f76442d6-d02e-4f26-b9d6-c3183e1d6929",
   "metadata": {},
   "source": [
    "## Pledge\n",
    "\n",
    "By submitting this work I hereby pledge that this is my own, personal work. I've acknowledged in the designated place at the top of this file all sources that I used to complete said work, including but not limited to: online resources, books, and electronic communications. I've noted all collaboration with fellow students and/or TA's. I did not copy or plagiarize another's work.\n",
    "\n",
    "> As a Boilermaker pursuing academic excellence, I pledge to be honest and true in all that I do. Accountable together – We are Purdue."
   ]
  }
 ],
 "metadata": {
  "kernelspec": {
   "display_name": "seminar",
   "language": "python",
   "name": "seminar"
  },
  "language_info": {
   "codemirror_mode": {
    "name": "ipython",
    "version": 3
   },
   "file_extension": ".py",
   "mimetype": "text/x-python",
   "name": "python",
   "nbconvert_exporter": "python",
   "pygments_lexer": "ipython3",
   "version": "3.11.5"
  }
 },
 "nbformat": 4,
 "nbformat_minor": 5
}
